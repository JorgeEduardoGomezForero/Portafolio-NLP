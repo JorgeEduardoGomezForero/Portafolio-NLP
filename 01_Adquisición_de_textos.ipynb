{
 "cells": [
  {
   "cell_type": "markdown",
   "metadata": {},
   "source": [
    "<img src='https://encrypted-tbn0.gstatic.com/images?q=tbn%3AANd9GcQ-VfNtOyJbsaxu43Kztf_cv1mgBG6ZIQZEVw&usqp=CAU'>"
   ]
  },
  {
   "cell_type": "markdown",
   "metadata": {},
   "source": [
    "# Procesamiento de Lenguage Natural\n",
    "\n",
    "## Taller 02: Adquisición de textos\n",
    "###    Especialización en Analítica de Datos\n",
    "###    Jorge Eduardo Gomez Forero\n",
    "###    Cod 616201010"
   ]
  },
  {
   "cell_type": "markdown",
   "metadata": {},
   "source": [
    "# Punto 1:\n",
    "\n",
    "**1.1 Descomprimir el archivo `.zip` de los poemas**\n",
    "\n",
    "**1.2 Leer cada uno de sus archivos**\n",
    "\n",
    "**1.3 Responder: ¿Cuál archivo tiene el mayor número de palabras?**"
   ]
  },
  {
   "cell_type": "markdown",
   "metadata": {},
   "source": [
    "**1.1 Descomprimir el archivo `.zip` de los poemas**\n",
    "\n",
    "    Se debe realizar la carga de las librerias necesarias para leer y descomprimir los archivos con extensión .zip"
   ]
  },
  {
   "cell_type": "code",
   "execution_count": 1,
   "metadata": {},
   "outputs": [],
   "source": [
    "import os\n",
    "from zipfile import ZipFile"
   ]
  },
  {
   "cell_type": "markdown",
   "metadata": {},
   "source": [
    "    Se carga el archivo poema.zip en la variable poema_zip desde la ruta donde se encuentra publicado y teniendo en cuenta\n",
    "    que la ruta es muy larga, se crea una variable que almacene el nombre de la ruta para facilitar la lectura del código."
   ]
  },
  {
   "cell_type": "code",
   "execution_count": 2,
   "metadata": {},
   "outputs": [],
   "source": [
    "ruta1 = \"C:/03_Jorge/01_Especialización_Analitica/02_Semestre/04 Electiva Fundamentos NLP/20200822/archivos/\""
   ]
  },
  {
   "cell_type": "code",
   "execution_count": 3,
   "metadata": {},
   "outputs": [],
   "source": [
    "poema_zip = ruta1+\"archivos/poemas.zip\""
   ]
  },
  {
   "cell_type": "markdown",
   "metadata": {},
   "source": [
    "    Se realiza la extracción de los archivos que se encuentran comprimidos, en la ruta y carpeta donde se desean publicar."
   ]
  },
  {
   "cell_type": "code",
   "execution_count": 4,
   "metadata": {},
   "outputs": [],
   "source": [
    "with ZipFile (poema_zip) as archivo:\n",
    "    archivo.extractall(ruta1+\"archivos\")"
   ]
  },
  {
   "cell_type": "markdown",
   "metadata": {},
   "source": [
    "    Se listan los archivos que se encuentran en la dirección indicada, para conocer el o los tipo de archivos, como también\n",
    "    para seleccionar los que se van a utilizar."
   ]
  },
  {
   "cell_type": "markdown",
   "metadata": {},
   "source": [
    "    Opción Nro. 1"
   ]
  },
  {
   "cell_type": "code",
   "execution_count": 5,
   "metadata": {
    "scrolled": true
   },
   "outputs": [
    {
     "data": {
      "text/plain": [
       "['A un general (Julio Corta╠üzar).txt',\n",
       " 'Aqui╠ü (Octavio Paz).txt',\n",
       " 'Si╠ündrome (Mario Benedetti).txt']"
      ]
     },
     "execution_count": 5,
     "metadata": {},
     "output_type": "execute_result"
    }
   ],
   "source": [
    "import os\n",
    "lista_archivos = os.listdir(ruta1+\"archivos/poemas\")\n",
    "lista_archivos"
   ]
  },
  {
   "cell_type": "markdown",
   "metadata": {},
   "source": [
    "    Opción Nro. 2"
   ]
  },
  {
   "cell_type": "code",
   "execution_count": 6,
   "metadata": {},
   "outputs": [
    {
     "name": "stdout",
     "output_type": "stream",
     "text": [
      "A un general (Julio Corta╠üzar).txt\n",
      "Aqui╠ü (Octavio Paz).txt\n",
      "Si╠ündrome (Mario Benedetti).txt\n"
     ]
    }
   ],
   "source": [
    "import os\n",
    "ejemplo_dir = ruta1+\"archivos/poemas\"\n",
    "with os.scandir(ejemplo_dir) as ficheros:\n",
    "    for fichero in ficheros:\n",
    "        print(fichero.name)"
   ]
  },
  {
   "cell_type": "markdown",
   "metadata": {},
   "source": [
    "**1.2 Leer cada uno de sus archivos descomprimidos**"
   ]
  },
  {
   "cell_type": "code",
   "execution_count": 8,
   "metadata": {},
   "outputs": [
    {
     "data": {
      "text/plain": [
       "'RegiÃ³n de manos sucias de pinceles sin pelo\\n\\nde niÃ±os boca abajo de cepillos de dientes\\n\\nZona donde la rata se ennoblece\\n\\ny hay banderas innÃºmeras y cantan himnos\\n\\ny alguien te prende, hijo de puta,\\n\\nuna medalla sobre el pecho\\n\\nY te pudres lo mismo.'"
      ]
     },
     "execution_count": 8,
     "metadata": {},
     "output_type": "execute_result"
    }
   ],
   "source": [
    "with open(ruta1+\"archivos/poemas/\"+lista_archivos[0]) as archivo1:\n",
    "    data1 = archivo1.read()\n",
    "data1"
   ]
  },
  {
   "cell_type": "code",
   "execution_count": 9,
   "metadata": {},
   "outputs": [
    {
     "data": {
      "text/plain": [
       "'Mis pasos en esta calle\\n\\nResuenan\\n\\nEn otra calle\\n\\nDonde\\n\\nOigo mis pasos\\n\\nPasar en esta calle\\n\\nDonde\\n\\nSÃ³lo es real la niebla.'"
      ]
     },
     "execution_count": 9,
     "metadata": {},
     "output_type": "execute_result"
    }
   ],
   "source": [
    "with open(ruta1+\"archivos/poemas/\"+lista_archivos[1]) as archivo2:\n",
    "    data2 = archivo2.read()    \n",
    "data2"
   ]
  },
  {
   "cell_type": "code",
   "execution_count": 10,
   "metadata": {},
   "outputs": [
    {
     "data": {
      "text/plain": [
       "'TodavÃ\\xada tengo casi todos mis dientes\\n\\ncasi todos mis cabellos y poquÃ\\xadsimas canas\\n\\npuedo hacer y deshacer el amor\\n\\ntrepar una escalera de dos en dos\\n\\ny correr cuarenta metros detrÃ¡s del Ã³mnibus\\n\\no sea que no deberÃ\\xada sentirme viejo\\n\\npero el grave problema es que antes\\n\\nno me fijaba en estos detalles.'"
      ]
     },
     "execution_count": 10,
     "metadata": {},
     "output_type": "execute_result"
    }
   ],
   "source": [
    "with open(ruta1+\"archivos/poemas/\"+lista_archivos[2]) as archivo3:\n",
    "    data3 = archivo3.read()    \n",
    "data3"
   ]
  },
  {
   "cell_type": "code",
   "execution_count": 11,
   "metadata": {},
   "outputs": [],
   "source": [
    "words1 = data1.split()\n",
    "words1_count =len(words1)\n",
    "words2 = data2.split()\n",
    "words2_count =len(words2)\n",
    "words3 = data3.split()\n",
    "words3_count =len(words3)"
   ]
  },
  {
   "cell_type": "markdown",
   "metadata": {},
   "source": [
    "**1.3 Responder: ¿Cuál archivo tiene el mayor número de palabras?**"
   ]
  },
  {
   "cell_type": "code",
   "execution_count": 13,
   "metadata": {},
   "outputs": [
    {
     "name": "stdout",
     "output_type": "stream",
     "text": [
      "El archivo Si╠ündrome (Mario Benedetti).txt cotiene el mayor numero de palabras con un total de 53.\n"
     ]
    }
   ],
   "source": [
    "if words1_count > words2_count and words1_count > words3_count:\n",
    "    print(\"El archivo \" + lista_archivos[0] + \"cotiene el mayor numero de palabras con un total de \"+repr(words1_count)+\".\")\n",
    "elif words2_count > words1_count and words2_count > words3_count:\n",
    "    print(\"El archivo \" + lista_archivos[1] + \"cotiene el mayor numero de palabras con un total de \"+repr(words2_count)+\".\")\n",
    "else:\n",
    "    print(\"El archivo \" + lista_archivos[2] + \" cotiene el mayor numero de palabras con un total de \"+repr(words3_count)+\".\")"
   ]
  },
  {
   "cell_type": "markdown",
   "metadata": {},
   "source": [
    "# Punto 2:\n",
    "\n",
    "**2.1 Hacer Web Scraping de 10 biografías en Wikipedia (en búcle)**\n",
    "\n",
    "**2.2 Obtener el \"encabezado\" de cada biografía**\n",
    "\n",
    "**2.3 Obtener todos los \"contenidos\" y \"etiquetas de título\" asociados a los \"links\" del primer párrafo**"
   ]
  },
  {
   "cell_type": "markdown",
   "metadata": {},
   "source": [
    "Se debe cargar las Librerias Request y BeautifulSoup"
   ]
  },
  {
   "cell_type": "code",
   "execution_count": 235,
   "metadata": {},
   "outputs": [],
   "source": [
    "import urllib.request as ur\n",
    "import bs4 as bs"
   ]
  },
  {
   "cell_type": "markdown",
   "metadata": {},
   "source": [
    "    Teniendo en cuenta que la pagina de donde se va extraer la información es la misma, se genera una variable con el link\n",
    "    general y se crea una lista de los grupos de Rock a los cuales se les desea extraer el encabezado y el primer parrafo.\n",
    "    Finalmente a traves de un bucle se puede obtener la información de las 10 biografías."
   ]
  },
  {
   "cell_type": "code",
   "execution_count": 252,
   "metadata": {},
   "outputs": [
    {
     "name": "stdout",
     "output_type": "stream",
     "text": [
      "Nirvana (banda)\n",
      "https://es.wikipedia.org/wiki/Nirvana_(banda)\n",
      "<p><b>Nirvana</b> fue una banda de <i><a href=\"/wiki/Grunge\" title=\"Grunge\">grunge</a></i> <a href=\"/wiki/Estados_Unidos\" title=\"Estados Unidos\">estadounidense</a> procedente de <a href=\"/wiki/Aberdeen_(Washington)\" title=\"Aberdeen (Washington)\">Aberdeen</a>, <a href=\"/wiki/Washington_(estado)\" title=\"Washington (estado)\">Washington</a>, <a href=\"/wiki/Estados_Unidos\" title=\"Estados Unidos\">Estados Unidos</a> fundada por el vocalista y guitarrista <a href=\"/wiki/Kurt_Cobain\" title=\"Kurt Cobain\">Kurt Cobain</a> y el bajista <a href=\"/wiki/Krist_Novoselic\" title=\"Krist Novoselic\">Krist Novoselic</a> en 1987. Desde su formación, Nirvana pasó por una serie de frecuentes cambios de baterista hasta que en <a href=\"/wiki/1990\" title=\"1990\">1990</a> se unió, de manera definitiva, el baterista <a href=\"/wiki/Dave_Grohl\" title=\"Dave Grohl\">Dave Grohl</a>. Nirvana actualmente es considerada como una de las bandas más famosas, importantes e influyentes de la historia de la música, siendo considerada banda símbolo de una generación.<sup class=\"reference separada\" id=\"cite_ref-BioAllmusic_1-1\"><a href=\"#cite_note-BioAllmusic-1\"><span class=\"corchete-llamada\">[</span>1<span class=\"corchete-llamada\">]</span></a></sup>​<sup class=\"reference separada\" id=\"cite_ref-3\"><a href=\"#cite_note-3\"><span class=\"corchete-llamada\">[</span>3<span class=\"corchete-llamada\">]</span></a></sup>​\n",
      "</p>\n",
      "*****************************************************************************************************************************\n",
      "\n",
      "Pink Floyd\n",
      "https://es.wikipedia.org/wiki/Pink_Floyd\n",
      "<p><b>Pink Floyd</b> fue una banda de <a href=\"/wiki/Rock\" title=\"Rock\">rock</a> <a href=\"/wiki/Reino_Unido\" title=\"Reino Unido\">británica</a>, fundada en <a href=\"/wiki/Londres\" title=\"Londres\">Londres</a> en 1965. Es considerada un icono cultural del <a href=\"/wiki/Siglo_XX\" title=\"Siglo XX\">siglo <span style=\"font-variant:small-caps\">xx</span></a> y una de las bandas más influyentes y aclamadas en la historia de la música, que obtuvo gran popularidad gracias a su música <a href=\"/wiki/Rock_psicod%C3%A9lico\" title=\"Rock psicodélico\">psicodélica</a> que evolucionó hacia el <a href=\"/wiki/Rock_progresivo\" title=\"Rock progresivo\">rock progresivo</a> y  <a href=\"/wiki/Rock_sinf%C3%B3nico\" title=\"Rock sinfónico\">rock sinfónico</a> con el paso del tiempo. Es conocida por sus canciones de alto contenido <a href=\"/wiki/Filosof%C3%ADa\" title=\"Filosofía\">filosófico</a>, la <a href=\"/wiki/Ac%C3%BAstica\" title=\"Acústica\">experimentación sónica</a>, las innovadoras portadas de sus discos y sus elaborados espectáculos en vivo. Sus ventas sobrepasan los 300 <a href=\"/wiki/Mill%C3%B3n\" title=\"Millón\">millones</a> de <a class=\"mw-redirect\" href=\"/wiki/%C3%81lbum_musical\" title=\"Álbum musical\">álbumes</a> vendidos en todo el mundo,<sup class=\"reference separada\" id=\"cite_ref-4\"><a href=\"#cite_note-4\"><span class=\"corchete-llamada\">[</span>4<span class=\"corchete-llamada\">]</span></a></sup>​<sup class=\"reference separada\" id=\"cite_ref-5\"><a href=\"#cite_note-5\"><span class=\"corchete-llamada\">[</span>5<span class=\"corchete-llamada\">]</span></a></sup>​ 97,5 millones de ellos solamente en los <a href=\"/wiki/Estados_Unidos\" title=\"Estados Unidos\">Estados Unidos</a>.<sup class=\"reference separada\" id=\"cite_ref-6\"><a href=\"#cite_note-6\"><span class=\"corchete-llamada\">[</span>6<span class=\"corchete-llamada\">]</span></a></sup>​\n",
      "</p>\n",
      "*****************************************************************************************************************************\n",
      "\n",
      "Queen\n",
      "https://es.wikipedia.org/wiki/Queen\n",
      "<p><b>Queen</b> es una <a href=\"/wiki/Agrupaci%C3%B3n_musical\" title=\"Agrupación musical\">banda</a> <a href=\"/wiki/Reino_Unido\" title=\"Reino Unido\">británica</a> de <a href=\"/wiki/Rock\" title=\"Rock\">rock</a> formada en <a href=\"/wiki/1970\" title=\"1970\">1970</a> en <a href=\"/wiki/Londres\" title=\"Londres\">Londres</a> por el <a href=\"/wiki/Cantante\" title=\"Cantante\">cantante</a> y <a href=\"/wiki/Piano\" title=\"Piano\">pianista</a> <a href=\"/wiki/Freddie_Mercury\" title=\"Freddie Mercury\">Freddie Mercury</a>, el <a href=\"/wiki/Guitarra_el%C3%A9ctrica\" title=\"Guitarra eléctrica\">guitarrista</a> <a href=\"/wiki/Brian_May\" title=\"Brian May\">Brian May</a>, el <a href=\"/wiki/Bater%C3%ADa_(instrumento_musical)\" title=\"Batería (instrumento musical)\">baterista</a> <a href=\"/wiki/Roger_Taylor\" title=\"Roger Taylor\">Roger Taylor</a> y el <a href=\"/wiki/Bajo_el%C3%A9ctrico\" title=\"Bajo eléctrico\">bajista</a> <a href=\"/wiki/John_Deacon\" title=\"John Deacon\">John Deacon</a>. Si bien el grupo ha presentado bajas de dos de sus miembros (Mercury, fallecido en 1991, y Deacon, retirado en 1997), los integrantes restantes, May y Taylor, continúan trabajando bajo el nombre Queen, por lo que la banda aún se considera activa.<sup class=\"reference separada\" id=\"cite_ref-queenvive_4-0\"><a href=\"#cite_note-queenvive-4\"><span class=\"corchete-llamada\">[</span>4<span class=\"corchete-llamada\">]</span></a></sup>​\n",
      "</p>\n",
      "*****************************************************************************************************************************\n",
      "\n",
      "Foo Fighters\n",
      "https://es.wikipedia.org/wiki/Foo_Fighters\n",
      "<p><b>Foo Fighters</b> es una banda <a class=\"mw-redirect\" href=\"/wiki/Estadounidense\" title=\"Estadounidense\">estadounidense</a> de <i><a href=\"/wiki/Rock_alternativo\" title=\"Rock alternativo\">rock alternativo</a></i> formada en la ciudad de <a href=\"/wiki/Seattle\" title=\"Seattle\">Seattle</a> en 1994 por <a href=\"/wiki/Dave_Grohl\" title=\"Dave Grohl\">Dave Grohl</a>, exbaterista de <a href=\"/wiki/Nirvana_(banda)\" title=\"Nirvana (banda)\">Nirvana</a> y <a href=\"/wiki/Scream_(banda)\" title=\"Scream (banda)\">Scream</a>.\n",
      "</p>\n",
      "*****************************************************************************************************************************\n",
      "\n",
      "Metallica\n",
      "https://es.wikipedia.org/wiki/Metallica\n",
      "<p><i><b>Metallica</b></i> es una <a class=\"mw-redirect\" href=\"/wiki/Banda_(m%C3%BAsica)\" title=\"Banda (música)\">banda</a> estadounidense de <i><a href=\"/wiki/Heavy_metal\" title=\"Heavy metal\">heavy metal</a></i> originaria de <a href=\"/wiki/Los_%C3%81ngeles\" title=\"Los Ángeles\">Los Ángeles</a>, pero con base en <a href=\"/wiki/San_Francisco_(California)\" title=\"San Francisco (California)\">San Francisco</a> desde <a class=\"mw-redirect\" href=\"/wiki/Febrero_de_1983\" title=\"Febrero de 1983\">febrero de 1983</a>. Fue fundada en 1981 en Los Ángeles por <a href=\"/wiki/Lars_Ulrich\" title=\"Lars Ulrich\">Lars Ulrich</a> y <a href=\"/wiki/James_Hetfield\" title=\"James Hetfield\">James Hetfield</a>, a los que se les unirían <a href=\"/wiki/Dave_Mustaine\" title=\"Dave Mustaine\">Dave Mustaine</a> y <a href=\"/wiki/Ron_McGovney\" title=\"Ron McGovney\">Ron McGovney</a>. Estos dos músicos fueron después sustituidos por el guitarrista <a href=\"/wiki/Kirk_Hammett\" title=\"Kirk Hammett\">Kirk Hammett</a> y el bajista <a href=\"/wiki/Cliff_Burton\" title=\"Cliff Burton\">Cliff Burton</a> respectivamente, <a href=\"/wiki/Dave_Mustaine\" title=\"Dave Mustaine\">Dave Mustaine</a> fue despedido un año después de ingresar en la banda debido a su excesiva adicción al <a href=\"/wiki/Alcohol\" title=\"Alcohol\">alcohol</a> y su actitud violenta, siendo sustituido por <a href=\"/wiki/Kirk_Hammett\" title=\"Kirk Hammett\">Kirk Hammett</a> (exguitarrista de <a href=\"/wiki/Exodus_(banda)\" title=\"Exodus (banda)\">Exodus</a>). <a href=\"/wiki/Ron_McGovney\" title=\"Ron McGovney\">Ron</a> renuncia a la banda debido al mal comportamiento de <a href=\"/wiki/Dave_Mustaine\" title=\"Dave Mustaine\">Dave Mustaine</a>, el cual era violento y problemático cuando estaba bajo el efecto del <a href=\"/wiki/Alcohol\" title=\"Alcohol\">alcohol</a>. El colmo fue cuando <a href=\"/wiki/Dave_Mustaine\" title=\"Dave Mustaine\">Mustaine</a> mojó el bajo de <a href=\"/wiki/Ron_McGovney\" title=\"Ron McGovney\">Ron</a> con cerveza, él sin saberlo lo conectó, recibiendo una descarga eléctrica. Es entonces, tras contactar con <a href=\"/wiki/Cliff_Burton\" title=\"Cliff Burton\">Cliff Burton</a> que la banda se traslada a <a href=\"/wiki/San_Francisco_(California)\" title=\"San Francisco (California)\">San Francisco</a>. (Cabe resaltar que <a href=\"/wiki/Ron_McGovney\" title=\"Ron McGovney\">Ron</a> sabía que lo iban a despedir y sustituir por <a href=\"/wiki/Cliff_Burton\" title=\"Cliff Burton\">Cliff Burton</a>). Por otra parte, el 27 de septiembre de 1986, fue la muerte de <a href=\"/wiki/Cliff_Burton\" title=\"Cliff Burton\">Cliff Burton</a> en un accidente de autobús en <a href=\"/wiki/Suecia\" title=\"Suecia\">Suecia</a>, durante una de sus giras, esto provocó la entrada al grupo de <a href=\"/wiki/Jason_Newsted\" title=\"Jason Newsted\">Jason Newsted</a>,<sup class=\"reference separada\" id=\"cite_ref-1\"><a href=\"#cite_note-1\"><span class=\"corchete-llamada\">[</span>1<span class=\"corchete-llamada\">]</span></a></sup>​ quien, tras su abandono quince años más tarde, sería sustituido por el bajista actual, <a href=\"/wiki/Robert_Trujillo\" title=\"Robert Trujillo\">Robert Trujillo</a>.\n",
      "</p>\n",
      "*****************************************************************************************************************************\n",
      "\n"
     ]
    },
    {
     "name": "stdout",
     "output_type": "stream",
     "text": [
      "Incubus (banda)\n",
      "https://es.wikipedia.org/wiki/Incubus_(banda)\n",
      "<p><b>Incubus</b> es una banda de <a href=\"/wiki/Rock_alternativo\" title=\"Rock alternativo\">rock alternativo</a><sup class=\"reference separada\" id=\"cite_ref-allmusic_2-0\"><a href=\"#cite_note-allmusic-2\"><span class=\"corchete-llamada\">[</span>2<span class=\"corchete-llamada\">]</span></a></sup>​<sup class=\"reference separada\" id=\"cite_ref-3\"><a href=\"#cite_note-3\"><span class=\"corchete-llamada\">[</span>3<span class=\"corchete-llamada\">]</span></a></sup>​ estadounidense formado por el vocalista <a href=\"/wiki/Brandon_Boyd\" title=\"Brandon Boyd\">Brandon Boyd</a>, guitarrista <a href=\"/wiki/Mike_Einziger\" title=\"Mike Einziger\">Mike Einziger</a> y batería <a href=\"/wiki/Jos%C3%A9_Pasillas\" title=\"José Pasillas\">José Pasillas</a> cuando estudiaban juntos y después expandienron con la inclusión del bajista <a class=\"new\" href=\"/w/index.php?title=Alex_Katunich&amp;action=edit&amp;redlink=1\" title=\"Alex Katunich (aún no redactado)\">Alex \"Dirk Lance\" Katunich</a>,y <a class=\"new\" href=\"/w/index.php?title=Gavin_Koppell&amp;action=edit&amp;redlink=1\" title=\"Gavin Koppell (aún no redactado)\">Gavin \"DJ Lyfe\" Koppell</a>; ambos reemplazados finalmente por <a href=\"/wiki/Ben_Kenney\" title=\"Ben Kenney\">Ben Kenney</a> y <a href=\"/wiki/Chris_Kilmore\" title=\"Chris Kilmore\">DJ Kilmore</a> respectivamente. Para el <a href=\"/wiki/2001\" title=\"2001\">2001</a> tuvieron un enorme éxito con el sencillo \"<a href=\"/wiki/Drive_(canci%C3%B3n_de_Incubus)\" title=\"Drive (canción de Incubus)\">Drive</a>\", seguido de su álbum <i><a href=\"/wiki/Morning_View\" title=\"Morning View\">Morning View</a></i>.\n",
      "</p>\n",
      "*****************************************************************************************************************************\n",
      "\n",
      "Stone Temple Pilots\n",
      "https://es.wikipedia.org/wiki/Stone_Temple_Pilots\n",
      "<p><b>Stone Temple Pilots</b> es un grupo <a class=\"mw-redirect\" href=\"/wiki/Estados_unidos\" title=\"Estados unidos\">estadounidense</a> de <i><a href=\"/wiki/Grunge\" title=\"Grunge\">grunge</a></i>, aunque una de sus principales características es la variedad de estilos musicales empleados en sus canciones. La banda ha fluctuado dentro de la ambigüedad del <a href=\"/wiki/Rock_alternativo\" title=\"Rock alternativo\"><i>rock</i> alternativo</a> de la década de <a href=\"/wiki/1990\" title=\"1990\">1990</a>, gozando de gran popularidad en aquella época, vendiendo más de 17.5 millones de álbumes en EE. UU. y más de 40 millones a nivel mundial. A principios del <a href=\"/wiki/2008\" title=\"2008\">2008</a>, el grupo sorprendió al anunciar su regreso a los escenarios, luego de haber estado separados desde <a href=\"/wiki/2003\" title=\"2003\">2003</a>. Se destaca el hecho de que el vocalista principal en la historia de la banda, <a href=\"/wiki/Scott_Weiland\" title=\"Scott Weiland\">Scott Weiland</a>, falleció en el año <a href=\"/wiki/2015\" title=\"2015\">2015</a> cuando ya no pertenecía al grupo, dejando un potente recuerdo en los fanes. Curiosamente, <a href=\"/wiki/Chester_Bennington\" title=\"Chester Bennington\">Chester Bennington</a>, quien reemplazó a Weiland en la banda, también falleció a la postre.\n",
      "</p>\n",
      "*****************************************************************************************************************************\n",
      "\n",
      "Linkin Park\n",
      "https://es.wikipedia.org/wiki/Linkin_Park\n",
      "<p><b>Linkin Park</b> es una banda <a class=\"mw-redirect\" href=\"/wiki/Estadounidense\" title=\"Estadounidense\">estadounidense</a> de <a href=\"/wiki/Rock_alternativo\" title=\"Rock alternativo\"><i>rock</i> alternativo</a>  procedente de <a href=\"/wiki/Agoura_Hills\" title=\"Agoura Hills\">Agoura Hills</a>, <a href=\"/wiki/California\" title=\"California\">California</a>. Formada en 1996, el grupo estuvo inicialmente integrado por <a href=\"/wiki/Mike_Shinoda\" title=\"Mike Shinoda\">Mike Shinoda</a>, <a href=\"/wiki/Dave_Farrell\" title=\"Dave Farrell\">Dave Farrell</a>, <a href=\"/wiki/Joe_Hahn\" title=\"Joe Hahn\">Joe Hahn</a>, <a href=\"/wiki/Brad_Delson\" title=\"Brad Delson\">Brad Delson</a>, <a href=\"/wiki/Rob_Bourdon\" title=\"Rob Bourdon\">Rob Bourdon</a> y <a href=\"/wiki/Mark_Wakefield\" title=\"Mark Wakefield\">Mark Wakefield</a>, este último como voz principal. La banda inició en ese mismo año sus primeros trabajos musicales de manera independiente y posterior a esto grabaron su primer material llamado <i><a href=\"/wiki/Xero_(demo)\" title=\"Xero (demo)\">Xero</a></i>; sin embargo no tuvieron gran éxito en la búsqueda de un sello discográfico ya que nadie mostró interés por su trabajo, lo que ocasionó la renuncia de Mark Wakefield.<sup class=\"reference separada\" id=\"cite_ref-genreuos_2-1\"><a href=\"#cite_note-genreuos-2\"><span class=\"corchete-llamada\">[</span>2<span class=\"corchete-llamada\">]</span></a></sup>​ Poco después, <a href=\"/wiki/Chester_Bennington\" title=\"Chester Bennington\">Chester Bennington</a> se incorporó a la banda como vocalista; el grupo realizó su primera presentación en un club de <a href=\"/wiki/Los_%C3%81ngeles\" title=\"Los Ángeles\">Los Ángeles</a> y siendo respaldados por Jeff Blue, en aquel entonces vicepresidente de <a class=\"mw-redirect\" href=\"/wiki/Warner_Bros._Records\" title=\"Warner Bros. Records\">Warner Bros. Records</a>, lograron firmar con el sello en 1999. El nombre del grupo es un juego de palabras que hace referencia al <a class=\"mw-redirect\" href=\"/wiki/Lincoln_Park\" title=\"Lincoln Park\">Lincoln Park</a> en <a href=\"/wiki/Santa_M%C3%B3nica_(California)\" title=\"Santa Mónica (California)\">Santa Mónica</a>.<sup class=\"reference separada\" id=\"cite_ref-genreuos_2-2\"><a href=\"#cite_note-genreuos-2\"><span class=\"corchete-llamada\">[</span>2<span class=\"corchete-llamada\">]</span></a></sup>​<sup class=\"reference separada\" id=\"cite_ref-ibiotun_8-0\"><a href=\"#cite_note-ibiotun-8\"><span class=\"corchete-llamada\">[</span>8<span class=\"corchete-llamada\">]</span></a></sup>​\n",
      "</p>\n",
      "*****************************************************************************************************************************\n",
      "\n",
      "Korn\n",
      "https://es.wikipedia.org/wiki/Korn\n",
      "<p><b>Korn</b> (estilizado <i>KoЯn</i>) es una banda <a href=\"/wiki/Estados_Unidos\" title=\"Estados Unidos\">estadounidense</a> de <i><a class=\"mw-redirect\" href=\"/wiki/Nu-metal\" title=\"Nu-metal\">nu-metal</a></i> de <a class=\"mw-redirect\" href=\"/wiki/Bakersfield\" title=\"Bakersfield\">Bakersfield</a>, <a href=\"/wiki/California\" title=\"California\">California</a>, <a href=\"/wiki/Estados_Unidos\" title=\"Estados Unidos\">Estados Unidos</a> formada en 1993. Son considerados los pioneros del género <i><a href=\"/wiki/Nu_metal\" title=\"Nu metal\">nu metal</a></i><sup class=\"reference separada\" id=\"cite_ref-3\"><a href=\"#cite_note-3\"><span class=\"corchete-llamada\">[</span>3<span class=\"corchete-llamada\">]</span></a></sup>​<sup class=\"reference separada\" id=\"cite_ref-4\"><a href=\"#cite_note-4\"><span class=\"corchete-llamada\">[</span>4<span class=\"corchete-llamada\">]</span></a></sup>​ junto con <a href=\"/wiki/Deftones\" title=\"Deftones\">Deftones</a>. Como otras bandas de la época, fueron los que inspiraron a muchas de las bandas de <i>nu metal</i> y <i><a href=\"/wiki/Metal_alternativo\" title=\"Metal alternativo\">metal alternativo</a></i> entre los años 1990 y comienzos del 2000.\n",
      "</p>\n",
      "*****************************************************************************************************************************\n",
      "\n",
      "Red Hot Chili Peppers\n",
      "https://es.wikipedia.org/wiki/Red_Hot_Chili_Peppers\n",
      "<p><b>Red Hot Chili Peppers</b> es una banda de <a href=\"/wiki/Funk_rock\" title=\"Funk rock\">funk rock</a> <a href=\"/wiki/Estados_Unidos\" title=\"Estados Unidos\">estadounidense</a> formada en 1983 en <a class=\"mw-redirect\" href=\"/wiki/Los_%C3%81ngeles_(California)\" title=\"Los Ángeles (California)\">Los Ángeles</a>, <a href=\"/wiki/California\" title=\"California\">California</a>. Sus integrantes son, el vocalista <a href=\"/wiki/Anthony_Kiedis\" title=\"Anthony Kiedis\">Anthony Kiedis</a>, el guitarrista <a href=\"/wiki/John_Frusciante\" title=\"John Frusciante\">John Frusciante</a>, el bajista <a href=\"/wiki/Flea\" title=\"Flea\">Flea</a> y el baterista <a href=\"/wiki/Chad_Smith\" title=\"Chad Smith\">Chad Smith</a>. El estilo musical de la banda fusiona el <a href=\"/wiki/Funk\" title=\"Funk\">funk</a> tradicional con el <a href=\"/wiki/Rock\" title=\"Rock\">rock</a> y el <a href=\"/wiki/Rock_alternativo\" title=\"Rock alternativo\">rock alternativo</a> incluyendo elementos de otros géneros como el <a href=\"/wiki/Rap\" title=\"Rap\">rap</a>, <a href=\"/wiki/Pop_rock\" title=\"Pop rock\">pop rock</a>, <a href=\"/wiki/Heavy_metal\" title=\"Heavy metal\">heavy metal</a>, <a class=\"mw-redirect\" href=\"/wiki/Dance\" title=\"Dance\">dance</a>, <a href=\"/wiki/Punk\" title=\"Punk\">punk</a>, <a href=\"/wiki/Hip_hop\" title=\"Hip hop\">hip hop</a> e <a href=\"/wiki/Indie_rock\" title=\"Indie rock\">indie rock</a>.<sup class=\"reference separada\" id=\"cite_ref-Allmusic_1-1\"><a href=\"#cite_note-Allmusic-1\"><span class=\"corchete-llamada\">[</span>1<span class=\"corchete-llamada\">]</span></a></sup>​<sup class=\"reference separada\" id=\"cite_ref-3\"><a href=\"#cite_note-3\"><span class=\"corchete-llamada\">[</span>3<span class=\"corchete-llamada\">]</span></a></sup>​ Aunque en algunos sitios son considerados los inventores del <a class=\"mw-redirect\" href=\"/wiki/Punk_funk\" title=\"Punk funk\">punk funk</a><sup class=\"reference separada\" id=\"cite_ref-4\"><a href=\"#cite_note-4\"><span class=\"corchete-llamada\">[</span>4<span class=\"corchete-llamada\">]</span></a></sup>​, en realidad son los que hicieron esta fusión (inventada por el neoyorquino <a class=\"new\" href=\"/w/index.php?title=James_Chance&amp;action=edit&amp;redlink=1\" title=\"James Chance (aún no redactado)\">James Chance</a>) masiva y exitosa comercialmente.<sup class=\"reference separada\" id=\"cite_ref-5\"><a href=\"#cite_note-5\"><span class=\"corchete-llamada\">[</span>5<span class=\"corchete-llamada\">]</span></a></sup>​\n",
      "</p>\n",
      "*****************************************************************************************************************************\n",
      "\n"
     ]
    }
   ],
   "source": [
    "link = \"https://es.wikipedia.org/wiki/\"\n",
    "lista_link =[\"Nirvana_(banda)\",\"Pink_Floyd\",\"Queen\",\"Foo_Fighters\",\"Metallica\",\"Incubus_(banda)\",\n",
    "             \"Stone_Temple_Pilots\",\"Linkin_Park\",\"Korn\",\"Red_Hot_Chili_Peppers\"]\n",
    "for banda in lista_link:\n",
    "    request = ur.urlopen(link+banda)\n",
    "    fuente = request.read()\n",
    "    request.close()\n",
    "    soup = bs.BeautifulSoup(fuente,'html.parser')\n",
    "    for titulo in soup.find(id=\"firstHeading\"):\n",
    "        print(titulo)\n",
    "    link_banda = print(link+banda)\n",
    "    contenido = soup.find('div', id=\"mw-content-text\")\n",
    "    parrafo = contenido.find_all('p')\n",
    "    print(parrafo[0])\n",
    "    #print(soup)\n",
    "    print(\"*\"*125)\n",
    "    print()"
   ]
  }
 ],
 "metadata": {
  "kernelspec": {
   "display_name": "Python 3",
   "language": "python",
   "name": "python3"
  },
  "language_info": {
   "codemirror_mode": {
    "name": "ipython",
    "version": 3
   },
   "file_extension": ".py",
   "mimetype": "text/x-python",
   "name": "python",
   "nbconvert_exporter": "python",
   "pygments_lexer": "ipython3",
   "version": "3.7.6"
  }
 },
 "nbformat": 4,
 "nbformat_minor": 4
}
